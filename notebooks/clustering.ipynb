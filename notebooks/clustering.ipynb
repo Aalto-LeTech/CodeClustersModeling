{
 "cells": [
  {
   "cell_type": "code",
   "execution_count": 2,
   "metadata": {},
   "outputs": [],
   "source": [
    "import numpy as np\n",
    "import pandas as pd\n",
    "import scipy\n",
    "import psycopg2\n",
    "\n",
    "import matplotlib.pyplot as plt\n",
    "\n",
    "import os"
   ]
  },
  {
   "cell_type": "code",
   "execution_count": 6,
   "metadata": {},
   "outputs": [],
   "source": [
    "from dotenv import load_dotenv\n",
    "load_dotenv()\n",
    "\n",
    "POSTGRES_HOST = os.getenv(\"DB_HOST\")\n",
    "POSTGRES_PORT = os.getenv(\"DB_PORT\")\n",
    "POSTGRES_DB = os.getenv(\"DB_NAME\")\n",
    "POSTGRES_USER = os.getenv(\"DB_USER\")\n",
    "POSTGRES_PASSWORD = os.getenv(\"DB_PASSWORD\")"
   ]
  },
  {
   "cell_type": "code",
   "execution_count": 8,
   "metadata": {},
   "outputs": [
    {
     "name": "stdout",
     "output_type": "stream",
     "text": [
      "[(1, 1, 'Tarkista funktion tyyppi. Tarkista tulostus!', 'Hah', datetime.datetime(2020, 1, 28, 11, 28, 2, 410308, tzinfo=psycopg2.tz.FixedOffsetTimezone(offset=0, name=None))), (2, 2, 'Tarkista tulostus!', 'Höh', datetime.datetime(2020, 1, 28, 11, 28, 2, 410308, tzinfo=psycopg2.tz.FixedOffsetTimezone(offset=0, name=None))), (3, 1, 'asdf', 'asdfasdfasdf', datetime.datetime(2020, 1, 28, 11, 28, 24, 649827, tzinfo=psycopg2.tz.FixedOffsetTimezone(offset=0, name=None)))]\n"
     ]
    }
   ],
   "source": [
    "conn = psycopg2.connect(host=POSTGRES_HOST, port=POSTGRES_PORT, database=POSTGRES_DB, user=POSTGRES_USER, password=POSTGRES_PASSWORD)\n",
    "\n",
    "cur = conn.cursor()\n",
    "\n",
    "cur.execute(\"\"\"SELECT * FROM review\"\"\")\n",
    "query_results = cur.fetchall()\n",
    "print(query_results)"
   ]
  },
  {
   "cell_type": "code",
   "execution_count": null,
   "metadata": {},
   "outputs": [],
   "source": []
  }
 ],
 "metadata": {
  "kernelspec": {
   "display_name": "Python 3",
   "language": "python",
   "name": "python3"
  },
  "language_info": {
   "codemirror_mode": {
    "name": "ipython",
    "version": 3
   },
   "file_extension": ".py",
   "mimetype": "text/x-python",
   "name": "python",
   "nbconvert_exporter": "python",
   "pygments_lexer": "ipython3",
   "version": "3.7.5"
  }
 },
 "nbformat": 4,
 "nbformat_minor": 4
}
